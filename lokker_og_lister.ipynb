{
 "cells": [
  {
   "cell_type": "markdown",
   "metadata": {},
   "source": [
    "**Oppgaven er delt i flere mindre deloppgaver**"
   ]
  },
  {
   "cell_type": "markdown",
   "metadata": {},
   "source": [
    "* Alle oppgavene totalt gir 20 poeng."
   ]
  },
  {
   "cell_type": "markdown",
   "metadata": {},
   "source": [
    "* Lag en liste med alle tallene fra 70 og opp til (og ikke med) 100. Dette kan gjøres på to måter, med en enkel for-loop, eller med list comprehension. **4 poeng**, 2 poeng for hver av de to løsningene"
   ]
  },
  {
   "cell_type": "code",
   "execution_count": 3,
   "metadata": {},
   "outputs": [],
   "source": []
  },
  {
   "cell_type": "markdown",
   "metadata": {},
   "source": [
    "* Bruk en for-loop til å endre alle partallene i listen til 0. Print ut listen etterpå. **2 poeng**"
   ]
  },
  {
   "cell_type": "code",
   "execution_count": null,
   "metadata": {},
   "outputs": [],
   "source": []
  },
  {
   "cell_type": "markdown",
   "metadata": {},
   "source": [
    "* Tøm listen som du har brukt tidligere. **1 poeng**\n",
    "* Print en meny og bruk en while-loop til å behandle brukerinput som gjør følgende:\n",
    "    - skriver brukeren inn et positivt partall skal tallet legges inn i listen. **1 poeng**\n",
    "    - skriver brukeren inn et positivt oddetall skal 0 legges inn i listen. **1 poeng**\n",
    "    - skriver brukeren inn -1 så skal programmet avslutte og printe ut listen. **1 poeng**\n",
    "    - skriver brukeren et annet negativt tall skal programmet gi en feilmelding og be om et nytt tall. **1 poeng**\n",
    "    \n",
    "Løser du alle 4 deloppgavene under while-loopen får du 6 poeng totalt."
   ]
  },
  {
   "cell_type": "code",
   "execution_count": null,
   "metadata": {},
   "outputs": [],
   "source": []
  },
  {
   "cell_type": "markdown",
   "metadata": {},
   "source": [
    "* Tøm listen igjen.\n",
    "* Bruk en for-loop til å legge inn 10 tilfeldige tall fra og med 0 til og med 9. Her kan du bruke random.randint som vist i eksempelet under. **3 poeng**"
   ]
  },
  {
   "cell_type": "code",
   "execution_count": 2,
   "metadata": {},
   "outputs": [],
   "source": [
    "import random\n",
    "tilfeldig_tall = random.randint(0, 9)"
   ]
  },
  {
   "cell_type": "markdown",
   "metadata": {},
   "source": [
    "* Lag en ordbok hvor hver nøkkel er et tall fra 0-9, og hver verdi er det tallet skrevet ut som en string i ordform. Du kan kopiere ordboken i eksempelet under og bruke den videre.\n",
    "* Loop gjennom listen over de 10 tilfeldige tallene og print ut hvert tall som en string på ordform ved å bruke ordboken. Tallene skal printes på **en** linje, og det skal være mellomrom mellom hver av dem. Hvordan du får dette til er opp til deg. **4 poeng**"
   ]
  },
  {
   "cell_type": "code",
   "execution_count": 3,
   "metadata": {},
   "outputs": [],
   "source": [
    "ordbok = {\n",
    "    0: \"zero\",\n",
    "    1: \"one\",\n",
    "    2: \"two\",\n",
    "    3: \"three\",\n",
    "    4: \"four\",\n",
    "    5: \"five\",\n",
    "    6: \"six\",\n",
    "    7: \"seven\",\n",
    "    8: \"eight\",\n",
    "    9: \"nine\"\n",
    "}"
   ]
  }
 ],
 "metadata": {
  "kernelspec": {
   "display_name": "Python 3",
   "language": "python",
   "name": "python3"
  },
  "language_info": {
   "codemirror_mode": {
    "name": "ipython",
    "version": 3
   },
   "file_extension": ".py",
   "mimetype": "text/x-python",
   "name": "python",
   "nbconvert_exporter": "python",
   "pygments_lexer": "ipython3",
   "version": "3.7.7"
  }
 },
 "nbformat": 4,
 "nbformat_minor": 4
}
