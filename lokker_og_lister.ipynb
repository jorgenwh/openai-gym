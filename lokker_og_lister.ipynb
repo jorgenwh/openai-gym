{
 "cells": [
  {
   "cell_type": "markdown",
   "metadata": {},
   "source": [
    "**Oppgaven er delt i flere mindre deloppgaver**"
   ]
  },
  {
   "cell_type": "markdown",
   "metadata": {},
   "source": [
    "* Alle oppgavene totalt gir 20 poeng."
   ]
  },
  {
   "cell_type": "markdown",
   "metadata": {},
   "source": [
    "* Lag en liste med alle tallene fra 70 og opp til (og ikke med) 100. Dette kan gjøres på to måter, med en enkel for-loop, eller med list comprehension. **4 poeng**, 2 poeng for hver av de to løsningene"
   ]
  },
  {
   "cell_type": "code",
   "execution_count": 1,
   "metadata": {},
   "outputs": [],
   "source": [
    "# 1) med en for-loop\n",
    "liste = []\n",
    "for i in range(70, 100):\n",
    "    liste.append(i)\n",
    "    \n",
    "# 2) med list comprehension\n",
    "liste = [i for i in range(70, 100)]"
   ]
  },
  {
   "cell_type": "markdown",
   "metadata": {},
   "source": [
    "* Bruk en for-loop til å endre alle partallene i listen til 0. Print ut listen etterpå. **2 poeng**"
   ]
  },
  {
   "cell_type": "code",
   "execution_count": 2,
   "metadata": {},
   "outputs": [
    {
     "name": "stdout",
     "output_type": "stream",
     "text": [
      "[0, 71, 0, 73, 0, 75, 0, 77, 0, 79, 0, 81, 0, 83, 0, 85, 0, 87, 0, 89, 0, 91, 0, 93, 0, 95, 0, 97, 0, 99]\n"
     ]
    }
   ],
   "source": [
    "# vi looper gjennom alle indeksene i listen: 0, 1, 2, 3 ...\n",
    "for i in range(len(liste)):\n",
    "    \n",
    "    # for hver indeks sjekker vi om tallet i listen på den indeksen er et partall:\n",
    "    if liste[i] % 2 == 0:\n",
    "        \n",
    "        # hvis True, så endrer vi liste[i] til 0\n",
    "        liste[i] = 0\n",
    "        \n",
    "print(liste)"
   ]
  },
  {
   "cell_type": "markdown",
   "metadata": {},
   "source": [
    "* Tøm listen som du har brukt tidligere. **1 poeng**\n",
    "* Print en meny og bruk en while-loop til å behandle brukerinput som gjør følgende:\n",
    "    - skriver brukeren inn et positivt partall skal tallet legges inn i listen. **1 poeng**\n",
    "    - skriver brukeren inn et positivt oddetall skal 0 legges inn i listen. **1 poeng**\n",
    "    - skriver brukeren inn -1 så skal programmet avslutte og printe ut listen. **1 poeng**\n",
    "    - skriver brukeren et annet negativt tall skal programmet gi en feilmelding og be om et nytt tall. **1 poeng**\n",
    "    \n",
    "Løser du alle 4 deloppgavene under while-loopen får du 6 poeng totalt."
   ]
  },
  {
   "cell_type": "code",
   "execution_count": 4,
   "metadata": {},
   "outputs": [
    {
     "name": "stdout",
     "output_type": "stream",
     "text": [
      "Skriv inn et tall: 5\n",
      "Skriv inn et tall: 2\n",
      "Skriv inn et tall: -5\n",
      "Error: negativt tall!\n",
      "Skriv inn et tall: 1\n",
      "Skriv inn et tall: 0\n",
      "Skriv inn et tall: -1\n",
      "[0, 2, 0, 0]\n"
     ]
    }
   ],
   "source": [
    "# tøm listen\n",
    "liste.clear()\n",
    "\n",
    "inp = \"\"\n",
    "while inp != -1:\n",
    "    inp = int(input(\"Skriv inn et tall: \"))\n",
    "    \n",
    "    # hvis input er mindre enn -1\n",
    "    if inp < -1:\n",
    "        print(\"Error: negativt tall!\")\n",
    "    \n",
    "    # hvis input er større eller lik 0 og et partall\n",
    "    elif inp >= 0 and inp % 2 == 0:\n",
    "        liste.append(inp)\n",
    "    \n",
    "    # hvis input er større eller lik 0 og er et oddetall\n",
    "    elif inp >= 0 and inp % 2 == 1:\n",
    "        liste.append(0)\n",
    "        \n",
    "# print listen\n",
    "print(liste)"
   ]
  },
  {
   "cell_type": "markdown",
   "metadata": {},
   "source": [
    "* Tøm listen igjen.\n",
    "* Bruk en for-loop til å legge inn 10 tilfeldige tall fra og med 0 til og med 9. Her kan du bruke random.randint som vist i eksempelet under. **3 poeng**"
   ]
  },
  {
   "cell_type": "code",
   "execution_count": 9,
   "metadata": {},
   "outputs": [
    {
     "name": "stdout",
     "output_type": "stream",
     "text": [
      "[6, 1, 9, 4, 0, 6, 4, 9, 6, 9]\n"
     ]
    }
   ],
   "source": [
    "import random\n",
    "\n",
    "liste.clear()\n",
    "\n",
    "# vi looper 10 ganger\n",
    "for _ in range(10):\n",
    "    # lag et tilfeldig tall mellom 0 og 9\n",
    "    tall = random.randint(0, 9)\n",
    "    \n",
    "    # legg det til i listen\n",
    "    liste.append(tall)\n",
    "\n",
    "print(liste)"
   ]
  },
  {
   "cell_type": "markdown",
   "metadata": {},
   "source": [
    "* Lag en ordbok hvor hver nøkkel er et tall fra 0-9, og hver verdi er det tallet skrevet ut som en string i ordform. Du kan kopiere ordboken i eksempelet under og bruke den videre.\n",
    "* Loop gjennom listen over de 10 tilfeldige tallene og print ut hvert tall som en string på ordform ved å bruke ordboken. Tallene skal printes på **en** linje, og det skal være mellomrom mellom hver av dem. Hvordan du får dette til er opp til deg. **4 poeng**"
   ]
  },
  {
   "cell_type": "code",
   "execution_count": 12,
   "metadata": {},
   "outputs": [
    {
     "name": "stdout",
     "output_type": "stream",
     "text": [
      "six one nine four zero six four nine six nine "
     ]
    }
   ],
   "source": [
    "ordbok = {\n",
    "    0: \"zero\",\n",
    "    1: \"one\",\n",
    "    2: \"two\",\n",
    "    3: \"three\",\n",
    "    4: \"four\",\n",
    "    5: \"five\",\n",
    "    6: \"six\",\n",
    "    7: \"seven\",\n",
    "    8: \"eight\",\n",
    "    9: \"nine\"\n",
    "}\n",
    "\n",
    "# for hvert tall i listen\n",
    "for tall in liste:\n",
    "    \n",
    "    # hent string versjonen av tallet\n",
    "    tall_string = ordbok[tall]\n",
    "    \n",
    "    # print tallet som string med et mellomrom etterpå.\n",
    "    # end=\"\" sier at vi ikke automatisk skal printe en newline character etterpå, men heller en tom string, derfor\n",
    "    # kommer alt på samme linje etter hverandre\n",
    "    print(tall_string + \" \", end=\"\")"
   ]
  }
 ],
 "metadata": {
  "kernelspec": {
   "display_name": "Python 3",
   "language": "python",
   "name": "python3"
  },
  "language_info": {
   "codemirror_mode": {
    "name": "ipython",
    "version": 3
   },
   "file_extension": ".py",
   "mimetype": "text/x-python",
   "name": "python",
   "nbconvert_exporter": "python",
   "pygments_lexer": "ipython3",
   "version": "3.7.7"
  }
 },
 "nbformat": 4,
 "nbformat_minor": 4
}
