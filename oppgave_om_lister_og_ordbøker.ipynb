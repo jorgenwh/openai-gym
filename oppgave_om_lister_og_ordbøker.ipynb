{
 "cells": [
  {
   "cell_type": "markdown",
   "metadata": {},
   "source": [
    "Skriv et program som skal be brukeren om et tall n, og deretter be brukeren om å skrive inn n navn på sanger, samt artistens navn for hver sang. Alle sang,artist parrene som blir skrevet inn skal lagres i en ordbok, hvor hver nøkkel er navnet på artisten, og hver verdi er en liste over alle sangene som er lagt til som er laget av den artisten. Alle sangene skal også legges til i en listevariabel 'spilleliste'. Ordbok variabelen kan du navngi selv.\n",
    "\n",
    "Helt til slutt skal programmet printe ut spillelisten og ordboken slik at man kan se at alt er slik som det skal."
   ]
  },
  {
   "cell_type": "markdown",
   "metadata": {},
   "source": [
    "### Løsningsforslag\n",
    "\n",
    "Vi tar utgangspunkt i at alle input er valide."
   ]
  },
  {
   "cell_type": "code",
   "execution_count": 11,
   "metadata": {},
   "outputs": [
    {
     "name": "stdout",
     "output_type": "stream",
     "text": [
      "Skriv inn n: 3\n"
     ]
    }
   ],
   "source": [
    "# vi ber brukeren om å skrive inn n\n",
    "n_str = input(\"Skriv inn n: \")\n",
    "n = int(n_str)"
   ]
  },
  {
   "cell_type": "code",
   "execution_count": 12,
   "metadata": {},
   "outputs": [],
   "source": [
    "# vi oppretter ordboken og listen som skal holde artistene og sangene dems, og sangene\n",
    "ordbok = {}\n",
    "spilleliste = []"
   ]
  },
  {
   "cell_type": "code",
   "execution_count": 13,
   "metadata": {},
   "outputs": [
    {
     "name": "stdout",
     "output_type": "stream",
     "text": [
      "Skriv inn en sang: in my dreams\n",
      "Skriv inn artisten som har laget sangen: wig wam\n",
      "Skriv inn en sang: baby\n",
      "Skriv inn artisten som har laget sangen: justin bieber\n",
      "Skriv inn en sang: sorry\n",
      "Skriv inn artisten som har laget sangen: justin bieber\n"
     ]
    }
   ],
   "source": [
    "# vi får n sanger og artister fra brukeren\n",
    "for _ in range(n):\n",
    "    sang = input(\"Skriv inn en sang: \")\n",
    "    artist = input(\"Skriv inn artisten som har laget sangen: \")\n",
    "    \n",
    "    # vi sjekker om artisten allerede er i ordboken (fordi en annen sang fra denne artisten)\n",
    "    # allerede har blitt lagt til. I så fall legger vi bare sangen til i listen over sanger til artisten\n",
    "    if artist in ordbok:\n",
    "        ordbok[artist].append(sang)\n",
    "    \n",
    "    # hvis ikke legger vi artisten til i ordboken, og oppretter en tom liste som verdien\n",
    "    else:\n",
    "        ordbok[artist] = []\n",
    "        \n",
    "        # deretter legger vi til sangen i listen til artisten\n",
    "        ordbok[artist].append(sang)\n",
    "        \n",
    "    # til slutt legger vi sangen til i spillelisten\n",
    "    spilleliste.append(sang)"
   ]
  },
  {
   "cell_type": "code",
   "execution_count": 14,
   "metadata": {},
   "outputs": [
    {
     "name": "stdout",
     "output_type": "stream",
     "text": [
      "{'wig wam': ['in my dreams'], 'justin bieber': ['baby', 'sorry']}\n",
      "['in my dreams', 'baby', 'sorry']\n"
     ]
    }
   ],
   "source": [
    "# til slutt skriver vi ut ordboken og spillelisten\n",
    "print(ordbok)\n",
    "print(spilleliste)"
   ]
  }
 ],
 "metadata": {
  "kernelspec": {
   "display_name": "Python 3",
   "language": "python",
   "name": "python3"
  },
  "language_info": {
   "codemirror_mode": {
    "name": "ipython",
    "version": 3
   },
   "file_extension": ".py",
   "mimetype": "text/x-python",
   "name": "python",
   "nbconvert_exporter": "python",
   "pygments_lexer": "ipython3",
   "version": "3.7.7"
  }
 },
 "nbformat": 4,
 "nbformat_minor": 4
}
