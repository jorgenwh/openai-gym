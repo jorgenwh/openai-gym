{
 "cells": [
  {
   "cell_type": "markdown",
   "metadata": {},
   "source": [
    "Skriv et program som skal be brukeren om et tall n, og deretter be brukeren om å skrive inn n navn på sanger, samt artistens navn for hver sang. Alle sang,artist parrene som blir skrevet inn skal lagres i en ordbok, hvor hver nøkkel er navnet på artisten, og hver verdi er en liste over alle sangene som er lagt til som er laget av den artisten. Alle sangene skal også legges til i en listevariabel 'spilleliste'. Ordbok variabelen kan du navngi selv.\n",
    "\n",
    "Helt til slutt skal programmet printe ut spillelisten og ordboken slik at man kan se at alt er slik som det skal."
   ]
  },
  {
   "cell_type": "code",
   "execution_count": null,
   "metadata": {},
   "outputs": [],
   "source": []
  }
 ],
 "metadata": {
  "kernelspec": {
   "display_name": "Python 3",
   "language": "python",
   "name": "python3"
  },
  "language_info": {
   "codemirror_mode": {
    "name": "ipython",
    "version": 3
   },
   "file_extension": ".py",
   "mimetype": "text/x-python",
   "name": "python",
   "nbconvert_exporter": "python",
   "pygments_lexer": "ipython3",
   "version": "3.7.7"
  }
 },
 "nbformat": 4,
 "nbformat_minor": 4
}
